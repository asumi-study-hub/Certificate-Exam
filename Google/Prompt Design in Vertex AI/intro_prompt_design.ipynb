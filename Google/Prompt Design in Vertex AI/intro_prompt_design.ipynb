{
 "cells": [
  {
   "cell_type": "code",
   "execution_count": null,
   "metadata": {
    "id": "ur8xi4C7S06n"
   },
   "outputs": [],
   "source": [
    "# Copyright 2025 Google LLC\n",
    "#\n",
    "# Licensed under the Apache License, Version 2.0 (the \"License\");\n",
    "# you may not use this file except in compliance with the License.\n",
    "# You may obtain a copy of the License at\n",
    "#\n",
    "#     https://www.apache.org/licenses/LICENSE-2.0\n",
    "#\n",
    "# Unless required by applicable law or agreed to in writing, software\n",
    "# distributed under the License is distributed on an \"AS IS\" BASIS,\n",
    "# WITHOUT WARRANTIES OR CONDITIONS OF ANY KIND, either express or implied.\n",
    "# See the License for the specific language governing permissions and\n",
    "# limitations under the License."
   ]
  },
  {
   "cell_type": "markdown",
   "metadata": {
    "id": "JAPoU8Sm5E6e"
   },
   "source": [
    "# Prompt Design - Best Practices\n",
    "\n",
    "<table align=\"left\">\n",
    "  <td style=\"text-align: center\">\n",
    "    <a href=\"https://colab.research.google.com/github/GoogleCloudPlatform/generative-ai/blob/main/gemini/prompts/intro_prompt_design.ipynb\">\n",
    "      <img width=\"32px\" src=\"https://www.gstatic.com/pantheon/images/bigquery/welcome_page/colab-logo.svg\" alt=\"Google Colaboratory logo\"><br> Open in Colab\n",
    "    </a>\n",
    "  </td>\n",
    "  <td style=\"text-align: center\">\n",
    "    <a href=\"https://console.cloud.google.com/vertex-ai/colab/import/https:%2F%2Fraw.githubusercontent.com%2FGoogleCloudPlatform%2Fgenerative-ai%2Fmain%2Fgemini%2Fprompts%2Fintro_prompt_design.ipynb\">\n",
    "      <img width=\"32px\" src=\"https://lh3.googleusercontent.com/JmcxdQi-qOpctIvWKgPtrzZdJJK-J3sWE1RsfjZNwshCFgE_9fULcNpuXYTilIR2hjwN\" alt=\"Google Cloud Colab Enterprise logo\"><br> Open in Colab Enterprise\n",
    "    </a>\n",
    "  </td>\n",
    "  <td style=\"text-align: center\">\n",
    "    <a href=\"https://console.cloud.google.com/vertex-ai/workbench/deploy-notebook?download_url=https://raw.githubusercontent.com/GoogleCloudPlatform/generative-ai/main/gemini/prompts/intro_prompt_design.ipynb\">\n",
    "      <img src=\"https://www.gstatic.com/images/branding/gcpiconscolors/vertexai/v1/32px.svg\" alt=\"Vertex AI logo\"><br> Open in Workbench\n",
    "    </a>\n",
    "  </td>\n",
    "  <td style=\"text-align: center\">\n",
    "    <a href=\"https://github.com/GoogleCloudPlatform/generative-ai/blob/main/gemini/prompts/intro_prompt_design.ipynb\">\n",
    "      <img width=\"32px\" src=\"https://www.svgrepo.com/download/217753/github.svg\" alt=\"GitHub logo\"><br> View on GitHub\n",
    "    </a>\n",
    "  </td>\n",
    "  <td style=\"text-align: center\">\n",
    "    <a href=\"https://goo.gle/4fWHlze\">\n",
    "      <img width=\"32px\" src=\"https://cdn.qwiklabs.com/assets/gcp_cloud-e3a77215f0b8bfa9b3f611c0d2208c7e8708ed31.svg\" alt=\"Google Cloud logo\"><br> Open in  Cloud Skills Boost\n",
    "    </a>\n",
    "  </td>\n",
    "</table>\n",
    "\n",
    "<div style=\"clear: both;\"></div>\n",
    "\n",
    "<b>Share to:</b>\n",
    "\n",
    "<a href=\"https://www.linkedin.com/sharing/share-offsite/?url=https%3A//github.com/GoogleCloudPlatform/generative-ai/blob/main/gemini/prompts/intro_prompt_design.ipynb\" target=\"_blank\">\n",
    "  <img width=\"20px\" src=\"https://upload.wikimedia.org/wikipedia/commons/8/81/LinkedIn_icon.svg\" alt=\"LinkedIn logo\">\n",
    "</a>\n",
    "<a href=\"https://bsky.app/intent/compose?text=https%3A//github.com/GoogleCloudPlatform/generative-ai/blob/main/gemini/prompts/intro_prompt_design.ipynb\" target=\"_blank\">\n",
    "  <img width=\"20px\" src=\"https://upload.wikimedia.org/wikipedia/commons/7/7a/Bluesky_Logo.svg\" alt=\"Bluesky logo\">\n",
    "</a>\n",
    "<a href=\"https://twitter.com/intent/tweet?url=https%3A//github.com/GoogleCloudPlatform/generative-ai/blob/main/gemini/prompts/intro_prompt_design.ipynb\" target=\"_blank\">\n",
    "  <img width=\"20px\" src=\"https://upload.wikimedia.org/wikipedia/commons/5/5a/X_icon_2.svg\" alt=\"X logo\">\n",
    "</a>\n",
    "<a href=\"https://reddit.com/submit?url=https%3A//github.com/GoogleCloudPlatform/generative-ai/blob/main/gemini/prompts/intro_prompt_design.ipynb\" target=\"_blank\">\n",
    "  <img width=\"20px\" src=\"https://redditinc.com/hubfs/Reddit%20Inc/Brand/Reddit_Logo.png\" alt=\"Reddit logo\">\n",
    "</a>\n",
    "<a href=\"https://www.facebook.com/sharer/sharer.php?u=https%3A//github.com/GoogleCloudPlatform/generative-ai/blob/main/gemini/prompts/intro_prompt_design.ipynb\" target=\"_blank\">\n",
    "  <img width=\"20px\" src=\"https://upload.wikimedia.org/wikipedia/commons/5/51/Facebook_f_logo_%282019%29.svg\" alt=\"Facebook logo\">\n",
    "</a>"
   ]
  },
  {
   "cell_type": "markdown",
   "metadata": {
    "id": "84f0f73a0f76"
   },
   "source": [
    "| Authors |\n",
    "| --- |\n",
    "| [Polong Lin](https://github.com/polong-lin) |\n",
    "| [Karl Weinmeister](https://github.com/kweinmeister) |"
   ]
  },
  {
   "cell_type": "markdown",
   "metadata": {
    "id": "tvgnzT1CKxrO"
   },
   "source": [
    "## Overview\n",
    "\n",
    "This notebook covers the essentials of prompt engineering, including some best practices.\n",
    "\n",
    "Learn more about prompt design in the [official documentation](https://cloud.google.com/vertex-ai/docs/generative-ai/text/text-overview).\n",
    "\n",
    "In this notebook, you learn best practices around prompt engineering -- how to design prompts to improve the quality of your responses.\n",
    "\n",
    "This notebook covers the following best practices for prompt engineering:\n",
    "\n",
    "- Be concise\n",
    "- Be specific and well-defined\n",
    "- Ask one task at a time\n",
    "- Turn generative tasks into classification tasks\n",
    "- Improve response quality by including examples"
   ]
  },
  {
   "cell_type": "markdown",
   "metadata": {
    "id": "61RBz8LLbxCR"
   },
   "source": [
    "## Getting Started"
   ]
  },
  {
   "cell_type": "markdown",
   "metadata": {
    "id": "No17Cw5hgx12"
   },
   "source": [
    "### Install Google Gen AI SDK\n"
   ]
  },
  {
   "cell_type": "code",
   "execution_count": 1,
   "metadata": {
    "id": "tFy3H3aPgx12",
    "tags": []
   },
   "outputs": [
    {
     "name": "stdout",
     "output_type": "stream",
     "text": [
      "\n",
      "\u001b[1m[\u001b[0m\u001b[34;49mnotice\u001b[0m\u001b[1;39;49m]\u001b[0m\u001b[39;49m A new release of pip is available: \u001b[0m\u001b[31;49m25.2\u001b[0m\u001b[39;49m -> \u001b[0m\u001b[32;49m25.3\u001b[0m\n",
      "\u001b[1m[\u001b[0m\u001b[34;49mnotice\u001b[0m\u001b[1;39;49m]\u001b[0m\u001b[39;49m To update, run: \u001b[0m\u001b[32;49mpip install --upgrade pip\u001b[0m\n",
      "Note: you may need to restart the kernel to use updated packages.\n"
     ]
    }
   ],
   "source": [
    "%pip install --upgrade --quiet google-genai"
   ]
  },
  {
   "cell_type": "markdown",
   "metadata": {
    "id": "06489bd14f16"
   },
   "source": [
    "### Import libraries\n"
   ]
  },
  {
   "cell_type": "code",
   "execution_count": 2,
   "metadata": {
    "id": "154137022fb6",
    "tags": []
   },
   "outputs": [],
   "source": [
    "from IPython.display import Markdown, display\n",
    "from google import genai\n",
    "from google.genai.types import GenerateContentConfig"
   ]
  },
  {
   "cell_type": "markdown",
   "metadata": {
    "id": "DF4l8DTdWgPY"
   },
   "source": [
    "### Set Google Cloud project information and create client\n",
    "\n",
    "To get started using Vertex AI, you must have an existing Google Cloud project and [enable the Vertex AI API](https://console.cloud.google.com/flows/enableapi?apiid=aiplatform.googleapis.com).\n",
    "\n",
    "Learn more about [setting up a project and a development environment](https://cloud.google.com/vertex-ai/docs/start/cloud-environment)."
   ]
  },
  {
   "cell_type": "code",
   "execution_count": 3,
   "metadata": {
    "id": "Nqwi-5ufWp_B",
    "tags": []
   },
   "outputs": [],
   "source": [
    "import os\n",
    "\n",
    "PROJECT_ID = \"qwiklabs-gcp-01-758f0d761b64\"\n",
    "LOCATION = os.environ.get(\"GOOGLE_CLOUD_REGION\", \"global\")\n",
    "\n",
    "client = genai.Client(vertexai=True, project=PROJECT_ID, location=LOCATION)\n"
   ]
  },
  {
   "cell_type": "markdown",
   "metadata": {
    "id": "OnFPpCRtXRl4"
   },
   "source": [
    "### Load model\n",
    "\n",
    "Learn more about all [Gemini models on Vertex AI](https://cloud.google.com/vertex-ai/generative-ai/docs/learn/models#gemini-models)."
   ]
  },
  {
   "cell_type": "code",
   "execution_count": 4,
   "metadata": {
    "id": "IQYu_9SvXQah",
    "tags": []
   },
   "outputs": [],
   "source": [
    "MODEL_ID = \"gemini-2.5-flash\"  # @param {type: \"string\"}"
   ]
  },
  {
   "cell_type": "markdown",
   "metadata": {
    "id": "cVOtUNJ5X0PY"
   },
   "source": [
    "## Prompt engineering best practices"
   ]
  },
  {
   "cell_type": "markdown",
   "metadata": {
    "id": "uv_e0fEPX60q"
   },
   "source": [
    "Prompt engineering is all about how to design your prompts so that the response is what you were indeed hoping to see.\n",
    "\n",
    "The idea of using \"unfancy\" prompts is to minimize the noise in your prompt to reduce the possibility of the LLM misinterpreting the intent of the prompt. Below are a few guidelines on how to engineer \"unfancy\" prompts.\n",
    "\n",
    "In this section, you'll cover the following best practices when engineering prompts:\n",
    "\n",
    "* Be concise\n",
    "* Be specific, and well-defined\n",
    "* Ask one task at a time\n",
    "* Improve response quality by including examples\n",
    "* Turn generative tasks to classification tasks to improve safety"
   ]
  },
  {
   "cell_type": "markdown",
   "metadata": {
    "id": "0pY4XX0OX9_Y"
   },
   "source": [
    "### Be concise"
   ]
  },
  {
   "cell_type": "markdown",
   "metadata": {
    "id": "xlRpxyxGYA1K"
   },
   "source": [
    "🛑 Not recommended. The prompt below is unnecessarily verbose."
   ]
  },
  {
   "cell_type": "code",
   "execution_count": 5,
   "metadata": {
    "id": "YKV4G-CfXdbi",
    "tags": []
   },
   "outputs": [
    {
     "data": {
      "text/markdown": [
       "That's a lovely niche! Focusing on dried flowers allows for some really creative and evocative names. Here are some ideas, categorized by the vibe they convey:\n",
       "\n",
       "---\n",
       "\n",
       "**I. Emphasizing Longevity & Timelessness:**\n",
       "\n",
       "*   **Everbloom / Everblooming Co.**\n",
       "*   **The Everlasting Petal**\n",
       "*   **Timeless Stems**\n",
       "*   **Eternal Flora / Flora Aeterna** (Latin for \"eternal flora\")\n",
       "*   **Heirloom Blooms**\n",
       "*   **The Enduring Bouquet**\n",
       "*   **Unfading Florals**\n",
       "*   **Forever in Bloom**\n",
       "*   **Petal & Permanence**\n",
       "*   **Keepsake Blooms**\n",
       "\n",
       "**II. Highlighting the Drying Process & Nature:**\n",
       "\n",
       "*   **Sun-Kissed Stems**\n",
       "*   **Air & Bloom**\n",
       "*   **The Dried Garden**\n",
       "*   **Petal & Press**\n",
       "*   **Botanical Preserves**\n",
       "*   **Terra Flora** (Earth Flora)\n",
       "*   **Wither & Bloom** (A bit edgy, but implies the beauty found *after* drying)\n",
       "*   **Harvested Harmony**\n",
       "\n",
       "**III. Focusing on Aesthetics & Craft:**\n",
       "\n",
       "*   **The Dried Arrangement**\n",
       "*   **Rustic Petals**\n",
       "*   **Bohemian Blooms**\n",
       "*   **The Botanical Atelier** (Atelier implies a workshop/studio)\n",
       "*   **Curated Dry Flowers**\n",
       "*   **Dust & Bloom** (Implies the delicate, preserved nature)\n",
       "*   **The Dried Floral Artistry**\n",
       "*   **Whispering Petals**\n",
       "\n",
       "**IV. Playful & Charming:**\n",
       "\n",
       "*   **Dried & Dandy**\n",
       "*   **Beyond Fresh**\n",
       "*   **The Forever Flower Co.**\n",
       "*   **Petal Post** (Like \"letter post,\" but for flowers, implying sending lasting beauty)\n",
       "*   **Bloom & Preserve**\n",
       "\n",
       "**V. Simple & Elegant:**\n",
       "\n",
       "*   **The Dried Bloom Co.**\n",
       "*   **Dry Flora Studio**\n",
       "*   **Preserved Botanicals**\n",
       "*   **Petal & Dust**\n",
       "*   **Bloom & Gather**\n",
       "\n",
       "---\n",
       "\n",
       "**Tips for Choosing:**\n",
       "\n",
       "1.  **Say it Out Loud:** Does it roll off the tongue? Is it easy to remember and pronounce?\n",
       "2.  **Check Availability:** Is the domain name available? What about social media handles?\n",
       "3.  **Reflect Your Brand:** Do you want a rustic, modern, elegant, or whimsical feel? The name should hint at your aesthetic.\n",
       "4.  **Target Audience:** Who are you trying to reach?\n",
       "5.  **Avoid Confusion:** Make sure it clearly implies dried flowers, or at least doesn't mislead customers into thinking you only sell fresh. Names like \"Everlasting Blooms\" do this well.\n",
       "\n",
       "Good luck with your new shop!"
      ],
      "text/plain": [
       "<IPython.core.display.Markdown object>"
      ]
     },
     "metadata": {},
     "output_type": "display_data"
    }
   ],
   "source": [
    "prompt = \"What do you think could be a good name for a flower shop that specializes in selling bouquets of dried flowers more than fresh flowers?\"\n",
    "\n",
    "response = client.models.generate_content(model=MODEL_ID, contents=prompt)\n",
    "display(Markdown(response.text))"
   ]
  },
  {
   "cell_type": "markdown",
   "metadata": {
    "id": "YrJexRHJYnmC"
   },
   "source": [
    "✅ Recommended. The prompt below is to the point and concise."
   ]
  },
  {
   "cell_type": "code",
   "execution_count": 6,
   "metadata": {
    "id": "VHetn9lCYrXB",
    "tags": []
   },
   "outputs": [
    {
     "data": {
      "text/markdown": [
       "Here are some name suggestions for a flower shop specializing in dried flower bouquets, categorized by their vibe:\n",
       "\n",
       "**Elegant & Timeless:**\n",
       "\n",
       "1.  **Everbloom Florals**\n",
       "2.  **The Preserved Petal**\n",
       "3.  **Enduring Blooms Atelier**\n",
       "4.  **Timeless Stems**\n",
       "5.  **Aria Floral & Dry**\n",
       "6.  **The Botanical Endure**\n",
       "7.  **Heritage Petals**\n",
       "8.  **Sylvan Dry Blooms** (Sylvan implies woodsy/forest)\n",
       "9.  **Flora & Foraged**\n",
       "10. **Whispering Willow Florals**\n",
       "\n",
       "**Rustic & Natural:**\n",
       "\n",
       "11. **The Dried Daisy Co.**\n",
       "12. **Root & Bloom Dry**\n",
       "13. **Ember & Earth Florals**\n",
       "14. **Wild Bloom Dry Goods**\n",
       "15. **The Rustic Posy**\n",
       "16. **Terra Floral**\n",
       "17. **Sun-Kissed Stems**\n",
       "18. **Prairie Bloom Dry**\n",
       "19. **The Gathered Branch**\n",
       "20. **Dusty Petal Florals**\n",
       "\n",
       "**Modern & Chic:**\n",
       "\n",
       "21. **Petal & Press**\n",
       "22. **The Dry Bloom Studio**\n",
       "23. **Eternal Flora Co.**\n",
       "24. **Bloom & Endure**\n",
       "25. **The Dried Botanist**\n",
       "26. **Fleur Sèche** (French for \"Dry Flower\")\n",
       "27. **Modern Perennials**\n",
       "28. **The Art of Dry**\n",
       "29. **Chic & Dried**\n",
       "30. **Dried Bloom Collective**\n",
       "\n",
       "**Playful & Catchy:**\n",
       "\n",
       "31. **Never-Fading Florals**\n",
       "32. **The Everlasting Posy**\n",
       "33. **Forever & A Bloom**\n",
       "34. **Petal Perpetuals**\n",
       "35. **Bloom Beyond**\n",
       "36. **The Dried & True**\n",
       "37. **Stay Golden Blooms**\n",
       "38. **Dry Spell Delights** (playful take on 'dry spell')\n",
       "39. **Bloomin' Forever**\n",
       "40. **Dried & Dandy**\n",
       "\n",
       "**Tips for Choosing:**\n",
       "\n",
       "*   **Check availability:** Make sure the name isn't already taken (website domain, social media handles, business registration).\n",
       "*   **Say it out loud:** Does it roll off the tongue? Is it easy to remember and pronounce?\n",
       "*   **Reflects your brand:** Does it match the aesthetic and feeling you want your shop to convey?\n",
       "*   **Target audience:** Will your ideal customers resonate with this name?\n",
       "*   **Simple & Clear:** Avoid overly complicated or confusing names.\n",
       "\n",
       "Good luck with your new shop!"
      ],
      "text/plain": [
       "<IPython.core.display.Markdown object>"
      ]
     },
     "metadata": {},
     "output_type": "display_data"
    }
   ],
   "source": [
    "prompt = \"Suggest a name for a flower shop that sells bouquets of dried flowers\"\n",
    "\n",
    "response = client.models.generate_content(model=MODEL_ID, contents=prompt)\n",
    "display(Markdown(response.text))"
   ]
  },
  {
   "cell_type": "markdown",
   "metadata": {
    "id": "eXTAvdOHY0OC"
   },
   "source": [
    "### Be specific, and well-defined"
   ]
  },
  {
   "cell_type": "markdown",
   "metadata": {
    "id": "FTH4GEIgY1dp"
   },
   "source": [
    "Suppose that you want to brainstorm creative ways to describe Earth."
   ]
  },
  {
   "cell_type": "markdown",
   "metadata": {
    "id": "o5BmXBiGY4KC"
   },
   "source": [
    "🛑 The prompt below might be a bit too generic (which is certainly OK if you'd like to ask a generic question!)"
   ]
  },
  {
   "cell_type": "code",
   "execution_count": 7,
   "metadata": {
    "id": "eHBaMvv7Y6mR",
    "tags": []
   },
   "outputs": [
    {
     "data": {
      "text/markdown": [
       "Earth, our home planet, is a truly remarkable and unique celestial body. It is the **third planet from the Sun** and the **only known celestial body to harbor life**.\n",
       "\n",
       "Here's a breakdown of what makes Earth so special:\n",
       "\n",
       "1.  **The Blue Planet:**\n",
       "    *   **Abundant Water:** Approximately 71% of Earth's surface is covered by water, primarily in oceans, making it appear blue from space. This liquid water is fundamental for life as we know it.\n",
       "    *   **The Water Cycle:** Earth has a unique water cycle that constantly recycles water through evaporation, condensation, precipitation, and runoff, distributing it across the planet.\n",
       "\n",
       "2.  **Habitability:**\n",
       "    *   **Location:** Earth is in the \"Goldilocks Zone\" – not too hot, not too cold – allowing for the existence of liquid water on its surface.\n",
       "    *   **Protective Atmosphere:** Our atmosphere, composed mainly of nitrogen (78%), oxygen (21%), and trace gases, acts as a protective shield. It traps heat, moderates temperatures, blocks harmful solar radiation (like UV rays through the ozone layer), and provides the oxygen necessary for most life forms.\n",
       "    *   **Magnetic Field (Magnetosphere):** Generated by Earth's liquid outer core, this powerful magnetic field deflects dangerous charged particles from the solar wind, preventing them from stripping away our atmosphere and harming life.\n",
       "\n",
       "3.  **Physical Characteristics:**\n",
       "    *   **Size & Shape:** Earth is the fifth-largest planet in our solar system and the largest of the four terrestrial (rocky) planets. It's an oblate spheroid, meaning it bulges slightly at the equator due to its rotation.\n",
       "    *   **Internal Structure:** Earth has a layered structure:\n",
       "        *   **Crust:** The thin, rocky outermost layer.\n",
       "        *   **Mantle:** A thick, semi-solid layer of silicate rock that moves slowly due to convection currents.\n",
       "        *   **Outer Core:** A liquid layer of iron and nickel, responsible for generating Earth's magnetic field.\n",
       "        *   **Inner Core:** A solid ball of iron and nickel, incredibly hot and dense, under immense pressure.\n",
       "    *   **Plate Tectonics:** The Earth's crust is broken into several large plates that are constantly moving, driven by convection in the mantle. This movement causes earthquakes, volcanic activity, and the formation of mountains, shaping the planet's surface over millions of years.\n",
       "\n",
       "4.  **Orbit and Rotation:**\n",
       "    *   **Orbit:** Earth orbits the Sun once every 365.25 days, defining our year.\n",
       "    *   **Rotation:** It rotates on its axis approximately every 24 hours, giving us day and night.\n",
       "    *   **Axial Tilt:** Earth's axis is tilted at about 23.5 degrees relative to its orbit. This tilt is responsible for the changing seasons experienced across much of the planet.\n",
       "\n",
       "5.  **Life and Biodiversity:**\n",
       "    *   Earth is a vibrant world teeming with an incredible diversity of life forms, from microscopic bacteria to enormous whales. These life forms interact within complex ecosystems that regulate the planet's climate and environment.\n",
       "    *   The continuous interaction between geological processes, climate, and life has co-evolved to create the unique planet we see today.\n",
       "\n",
       "6.  **Age:**\n",
       "    *   Earth is estimated to be approximately **4.54 billion years old**, formed from the accretion of cosmic dust and gas.\n",
       "\n",
       "**Challenges:**\n",
       "Despite its incredible resilience, Earth is currently facing significant challenges due to human activities, including climate change, pollution, deforestation, and biodiversity loss. Understanding and protecting our planet is crucial for the survival and well-being of all its inhabitants.\n",
       "\n",
       "In essence, Earth is a dynamic, interconnected system where geology, atmosphere, water, and life have intricately shaped each other over billions of years to create the diverse and vibrant world we call home."
      ],
      "text/plain": [
       "<IPython.core.display.Markdown object>"
      ]
     },
     "metadata": {},
     "output_type": "display_data"
    }
   ],
   "source": [
    "prompt = \"Tell me about Earth\"\n",
    "\n",
    "response = client.models.generate_content(model=MODEL_ID, contents=prompt)\n",
    "display(Markdown(response.text))"
   ]
  },
  {
   "cell_type": "markdown",
   "metadata": {
    "id": "4iyvEbteZnFL"
   },
   "source": [
    "✅ Recommended. The prompt below is specific and well-defined."
   ]
  },
  {
   "cell_type": "code",
   "execution_count": 8,
   "metadata": {
    "id": "JQ80z8urZnne",
    "tags": []
   },
   "outputs": [
    {
     "data": {
      "text/markdown": [
       "Earth stands out in our solar system, and possibly in the entire galaxy (as far as we know), due to a combination of intertwined features that have allowed for the emergence and sustenance of complex life. Here's a list of ways Earth is unique compared to other planets:\n",
       "\n",
       "1.  **Abundant and Stable Liquid Surface Water:** Earth is the only known planet to host vast quantities of stable liquid water on its surface. While other bodies like Mars show evidence of past water and moons like Europa and Enceladus have subsurface oceans, Earth's oceans, rivers, and lakes are a defining feature that has persisted for billions of years, crucial for the origin and evolution of life.\n",
       "\n",
       "2.  **Oxygen-Rich Atmosphere:** Our atmosphere is uniquely composed of about 21% free oxygen. This oxygen was largely produced by biological processes (photosynthesis) over geological timescales. Other planets either have very thin atmospheres (Mars), dense CO2 atmospheres (Venus), or are gas giants with hydrogen/helium atmospheres. This oxygen is vital for complex animal life.\n",
       "\n",
       "3.  **Active Plate Tectonics:** Earth is the only known planet with a dynamic system of large-scale plate tectonics. This process constantly recycles the planet's crust, drives volcanism, forms mountains, creates ocean trenches, and releases greenhouse gases that help regulate climate. This geochemical cycling is vital for maintaining a stable environment over long periods, including the carbon cycle.\n",
       "\n",
       "4.  **Strong and Stable Magnetic Field (Magnetosphere):** Earth possesses a powerful magnetic field generated by its molten iron outer core. This magnetosphere deflects harmful solar wind and cosmic radiation, preventing the stripping away of our atmosphere and protecting life on the surface. While some other planets have magnetic fields, Earth's is particularly robust and crucial for life.\n",
       "\n",
       "5.  **Presence of Complex, Diverse, and Abundant Life (Biodiversity):** This is the most obvious and profound distinction. Earth teems with an astonishing variety of life forms, from microscopic bacteria to intelligent beings. No other planet or moon in our solar system is known to host life, let alone such biodiversity or complex ecosystems.\n",
       "\n",
       "6.  **Intelligent, Technological Civilization:** As far as we currently know, Earth is the only planet that has given rise to intelligent life capable of developing technology, understanding the cosmos, and altering its environment on a global scale.\n",
       "\n",
       "7.  **Optimal Distance from the Sun (Goldilocks Zone):** Earth orbits in the Sun's habitable zone, where temperatures are \"just right\" for liquid water to exist on the surface. While this zone exists around other stars, Earth's particular position and other features make it uniquely suitable.\n",
       "\n",
       "8.  **Large and Stabilizing Moon:** Earth has an unusually large moon relative to its size. The Moon plays a crucial role in stabilizing Earth's axial tilt, preventing drastic wobbles that could lead to extreme and erratic climate changes. It also creates tides, which might have been important for early life's emergence.\n",
       "\n",
       "9.  **Relatively Stable Climate (Over Geological Time):** While Earth experiences climate change, the combination of its atmosphere, plate tectonics, oceans, and moon has generally maintained a temperature range conducive to life for billions of years, despite ice ages and warmer periods. This long-term stability is key for evolution.\n",
       "\n",
       "10. **A \"Sweeper\" Planet (Jupiter):** While not an intrinsic feature of Earth itself, the presence of Jupiter, a massive gas giant, in our solar system acts as a gravitational \"sweeper,\" deflecting or absorbing many comets and asteroids that might otherwise impact Earth. This has likely reduced the frequency of catastrophic impacts, allowing life to flourish.\n",
       "\n",
       "In essence, Earth's uniqueness stems from a delicate and interdependent balance of geological, atmospheric, and astronomical conditions that have converged to create and sustain a vibrant biosphere."
      ],
      "text/plain": [
       "<IPython.core.display.Markdown object>"
      ]
     },
     "metadata": {},
     "output_type": "display_data"
    }
   ],
   "source": [
    "prompt = \"Generate a list of ways that makes Earth unique compared to other planets\"\n",
    "\n",
    "response = client.models.generate_content(model=MODEL_ID, contents=prompt)\n",
    "display(Markdown(response.text))"
   ]
  },
  {
   "cell_type": "markdown",
   "metadata": {
    "id": "R5kmfZYHZsJ7"
   },
   "source": [
    "### Ask one task at a time"
   ]
  },
  {
   "cell_type": "markdown",
   "metadata": {
    "id": "rsAezxeYZuUN"
   },
   "source": [
    "🛑 Not recommended. The prompt below has two parts to the question that could be asked separately."
   ]
  },
  {
   "cell_type": "code",
   "execution_count": 9,
   "metadata": {
    "id": "ElywPXpuZtWf",
    "tags": []
   },
   "outputs": [
    {
     "data": {
      "text/markdown": [
       "Let's break down both of your interesting questions!\n",
       "\n",
       "---\n",
       "\n",
       "### What's the best method of boiling water?\n",
       "\n",
       "\"Best\" can depend on your priorities (speed, energy efficiency, portability, etc.), but generally, for home use:\n",
       "\n",
       "1.  **Electric Kettle (The Overall Winner for Most Homes):**\n",
       "    *   **Why it's great:**\n",
       "        *   **Speed:** They are incredibly fast, often boiling water in just a couple of minutes, especially for smaller quantities.\n",
       "        *   **Energy Efficiency:** They heat only the water directly and typically have auto-shutoff features, preventing wasted energy from overheating or prolonged boiling.\n",
       "        *   **Convenience:** Easy to use, portable within your kitchen, and safer than open stovetop flames.\n",
       "        *   **Cost-effective:** Modern kettles are relatively inexpensive to purchase and operate.\n",
       "    *   **Best for:** Everyday use in a home for tea, coffee, instant noodles, etc.\n",
       "\n",
       "2.  **Induction Stovetop (Excellent, but requires specific cookware):**\n",
       "    *   **Why it's great:**\n",
       "        *   **Speed:** Very fast, often competing with or even beating electric kettles, especially for larger volumes.\n",
       "        *   **Energy Efficiency:** Extremely efficient because it heats the pot directly through magnetic induction, with minimal heat loss to the surroundings.\n",
       "        *   **Precision:** Offers excellent temperature control.\n",
       "    *   **Best for:** Homes with induction cooktops and compatible cookware, especially when boiling larger quantities.\n",
       "\n",
       "3.  **Gas Stovetop (Good All-Around Option):**\n",
       "    *   **Why it's good:**\n",
       "        *   **Speed:** Generally faster than traditional electric coil stovetops.\n",
       "        *   **Control:** Offers good visual control over the flame intensity.\n",
       "        *   **Versatility:** Works with any type of pot.\n",
       "    *   **Why it's not \"best\":** Less energy efficient than electric kettles or induction, as a significant amount of heat escapes around the pot.\n",
       "\n",
       "**Least Recommended for \"Best\":**\n",
       "*   **Microwave:** While convenient for a single mug, it can heat unevenly and carries a slight risk of superheating water (making it suddenly boil explosively when disturbed), and is generally slower and less efficient for larger quantities.\n",
       "*   **Electric Coil Stovetop:** These are generally the slowest and least energy-efficient of the common stovetop options.\n",
       "\n",
       "**Conclusion for boiling water:** For speed, safety, and energy efficiency for everyday amounts of water, an **electric kettle** is typically the best choice.\n",
       "\n",
       "---\n",
       "\n",
       "### Why is the sky blue?\n",
       "\n",
       "The sky is blue primarily due to a phenomenon called **Rayleigh scattering**. Here's how it works:\n",
       "\n",
       "1.  **Sunlight is White Light:** Sunlight appears white to us, but it's actually made up of a spectrum of all colors (red, orange, yellow, green, blue, indigo, violet – ROYGBIV). Each color has a different wavelength, with red having the longest and violet the shortest.\n",
       "\n",
       "2.  **Earth's Atmosphere:** Our planet is surrounded by an atmosphere composed mainly of nitrogen (about 78%) and oxygen (about 21%) molecules, along with tiny dust particles and water droplets.\n",
       "\n",
       "3.  **Scattering of Light:** As sunlight travels through the atmosphere, it collides with these gas molecules and tiny particles. When light hits these tiny particles (which are much smaller than the wavelength of visible light), it gets scattered in different directions.\n",
       "\n",
       "4.  **Wavelength Dependence (Rayleigh Scattering):**\n",
       "    *   **Shorter wavelengths (blue and violet light) are scattered much more effectively than longer wavelengths (red and yellow light).** Imagine a wave hitting a tiny obstacle: a short, choppy wave will be deflected more dramatically than a long, rolling wave.\n",
       "    *   Blue light is scattered about 10 times more efficiently than red light.\n",
       "\n",
       "5.  **Why We See Blue:** Because blue and violet light are scattered so much more than other colors, they are dispersed across the entire sky. When we look up, the blue light scattered from countless atmospheric molecules reaches our eyes from all directions, making the sky appear blue.\n",
       "\n",
       "6.  **Why Not Violet?** While violet light scatters even more than blue, there are two main reasons why we perceive the sky as blue rather than violet:\n",
       "    *   The sun emits slightly less violet light than blue light.\n",
       "    *   Our eyes are more sensitive to blue light than to violet light.\n",
       "\n",
       "7.  **Why Sunsets are Red/Orange:** When the sun is low in the sky (sunrise or sunset), its light has to travel through a much greater amount of atmosphere to reach our eyes. By the time it gets to us, most of the blue and violet light has been scattered away, leaving primarily the longer wavelengths (red, orange, and yellow) to pass directly through. That's why sunsets are so beautifully colorful."
      ],
      "text/plain": [
       "<IPython.core.display.Markdown object>"
      ]
     },
     "metadata": {},
     "output_type": "display_data"
    }
   ],
   "source": [
    "prompt = \"What's the best method of boiling water and why is the sky blue?\"\n",
    "\n",
    "response = client.models.generate_content(model=MODEL_ID, contents=prompt)\n",
    "display(Markdown(response.text))"
   ]
  },
  {
   "cell_type": "markdown",
   "metadata": {
    "id": "ejzahazBZ8vk"
   },
   "source": [
    "✅ Recommended. The prompts below asks one task a time."
   ]
  },
  {
   "cell_type": "code",
   "execution_count": 14,
   "metadata": {
    "id": "C5ckp2F0Z_Ba",
    "tags": []
   },
   "outputs": [
    {
     "data": {
      "text/markdown": [
       "There isn't a single \"best\" method of boiling water, as \"best\" depends on your priorities: **speed, energy efficiency, convenience, safety, quantity, and available resources.**\n",
       "\n",
       "However, we can break down the most common methods and their strengths:\n",
       "\n",
       "---\n",
       "\n",
       "### Top Contenders & Why They're Good:\n",
       "\n",
       "1.  **Electric Kettle (Overall Winner for Indoor Use)**\n",
       "    *   **Why it's often considered best:**\n",
       "        *   **Speed:** Very fast, often boiling water quicker than a stovetop.\n",
       "        *   **Energy Efficiency:** Highly efficient because the heating element is directly in contact with the water, minimizing heat loss to the surrounding air. Many automatically shut off when boiling, saving energy.\n",
       "        *   **Convenience:** Simple to use, portable (if there's an outlet), and doesn't tie up a stovetop burner.\n",
       "        *   **Safety:** Auto-shutoff features prevent overheating or boiling dry.\n",
       "    *   **Best for:** Everyday use, tea, coffee, instant meals, small to medium quantities.\n",
       "\n",
       "2.  **Stovetop Kettle/Pot (Versatile & Reliable)**\n",
       "    *   **Why it's a strong contender:**\n",
       "        *   **Versatility:** Works on gas, electric, induction, or even wood-burning stoves.\n",
       "        *   **Quantity:** Can boil very large quantities of water if you have a big enough pot.\n",
       "        *   **Reliability:** No electronics to fail (for a basic pot).\n",
       "    *   **Speed & Efficiency:**\n",
       "        *   **Gas Stovetop:** Can be quite fast, especially with a good burner and a lid. Generally more efficient than electric coil stovetops.\n",
       "        *   **Induction Stovetop:** Extremely fast and energy-efficient, rivaling or even surpassing electric kettles due to direct heat transfer to the pot.\n",
       "        *   **Electric Coil Stovetop:** Often the slowest and least energy-efficient stovetop option, as heat is lost to the air around the coil before reaching the pot.\n",
       "    *   **Best for:** Large quantities, cooking, camping (with a suitable stove), when an electric kettle isn't available.\n",
       "\n",
       "---\n",
       "\n",
       "### Other Methods & Their Niche Uses:\n",
       "\n",
       "*   **Microwave:**\n",
       "    *   **Pros:** Convenient for very small amounts (e.g., a single cup), uses existing appliance.\n",
       "    *   **Cons:** **Not recommended for boiling water due to the risk of superheating.** Water can become hotter than its boiling point without bubbling, then suddenly flash boil when disturbed, causing explosive splashing and burns. It's also less energy-efficient for boiling than an electric kettle.\n",
       "    *   **Best for:** Warming water, but generally avoid for full-on boiling.\n",
       "\n",
       "*   **Immersion Heater:**\n",
       "    *   **Pros:** Extremely portable, fast for small quantities, inexpensive.\n",
       "    *   **Cons:** **Significant safety hazard.** Must be fully submerged, can cause electrical shock if mishandled, element gets very hot and can cause burns or fires if placed on flammable surfaces. Requires constant supervision.\n",
       "    *   **Best for:** Travel, emergencies, or situations where no other method is available, *used with extreme caution*.\n",
       "\n",
       "*   **Campfire / Portable Camping Stove:**\n",
       "    *   **Pros:** Essential for off-grid/outdoor situations, can boil large quantities.\n",
       "    *   **Cons:** Slower, requires fuel (wood, gas canister), can be smoky, not for indoor use.\n",
       "    *   **Best for:** Camping, backpacking, survival situations.\n",
       "\n",
       "*   **Solar Kettle/Cooker:**\n",
       "    *   **Pros:** Eco-friendly, no fuel needed after initial investment.\n",
       "    *   **Cons:** Very slow, dependent on sunlight, not practical indoors.\n",
       "    *   **Best for:** Sustainable living, remote areas with abundant sun, patience.\n",
       "\n",
       "---\n",
       "\n",
       "### Tips for Efficiency and Speed (Regardless of Method):\n",
       "\n",
       "1.  **Use a Lid:** This is the #1 tip for efficiency and speed. A lid traps heat and steam, significantly reducing boiling time and energy consumption.\n",
       "2.  **Heat Only What You Need:** Don't boil a full kettle for one cup of tea. Less water means less energy and faster boiling.\n",
       "3.  **Start with Hot Water (if applicable and safe):** If your tap water is very hot, using it can shave off a few seconds, but for drinking, cold tap water is generally recommended as it has fewer dissolved minerals that can build up scale.\n",
       "4.  **Descale Your Electric Kettle:** Mineral buildup (limescale) on the heating element of an electric kettle reduces its efficiency over time. Regular descaling will keep it fast.\n",
       "5.  **Use the Right Pot Size:** For stovetop boiling, a pot that matches the burner size will optimize heat transfer.\n",
       "6.  **High Heat:** Turn the heat up to maximum until the water boils, then reduce it if you need to maintain a simmer.\n",
       "\n",
       "---\n",
       "\n",
       "**In summary:**\n",
       "\n",
       "*   For **indoor use** and most daily needs, an **electric kettle** is generally the best choice for speed, energy efficiency, and convenience.\n",
       "*   For **larger quantities or versatility**, a **stovetop pot** (especially on induction or gas) is an excellent option.\n",
       "*   For **outdoor or off-grid situations**, a **camping stove or campfire** is necessary.\n",
       "\n",
       "Always prioritize safety, especially when dealing with hot water and heating elements."
      ],
      "text/plain": [
       "<IPython.core.display.Markdown object>"
      ]
     },
     "metadata": {},
     "output_type": "display_data"
    }
   ],
   "source": [
    "prompt = \"What's the best method of boiling water?\"\n",
    "\n",
    "response = client.models.generate_content(model=MODEL_ID, contents=prompt)\n",
    "display(Markdown(response.text))"
   ]
  },
  {
   "cell_type": "code",
   "execution_count": null,
   "metadata": {
    "id": "KwUzhud4aA89",
    "tags": []
   },
   "outputs": [],
   "source": [
    "prompt = \"Why is the sky blue?\"\n",
    "\n",
    "response = client.models.generate_content(model=MODEL_ID, contents=prompt)\n",
    "display(Markdown(response.text))"
   ]
  },
  {
   "cell_type": "markdown",
   "metadata": {
    "id": "PJIL2RTQaGcT"
   },
   "source": [
    "### Watch out for hallucinations"
   ]
  },
  {
   "cell_type": "markdown",
   "metadata": {
    "id": "8Y8kYxrSaHE9"
   },
   "source": [
    "Although LLMs have been trained on a large amount of data, they can generate text containing statements not grounded in truth or reality; these responses from the LLM are often referred to as \"hallucinations\" due to their limited memorization capabilities. Note that simply prompting the LLM to provide a citation isn't a fix to this problem, as there are instances of LLMs providing false or inaccurate citations. Dealing with hallucinations is a fundamental challenge of LLMs and an ongoing research area, so it is important to be cognizant that LLMs may seem to give you confident, correct-sounding statements that are in fact incorrect.\n",
    "\n",
    "Note that if you intend to use LLMs for the creative use cases, hallucinating could actually be quite useful."
   ]
  },
  {
   "cell_type": "markdown",
   "metadata": {
    "id": "8NY5nAGeaJYS"
   },
   "source": [
    "Try the prompt like the one below repeatedly. We set the temperature to `1.0` so that it takes more risks in its choices. It's possible that it may provide an inaccurate, but confident answer."
   ]
  },
  {
   "cell_type": "code",
   "execution_count": 10,
   "metadata": {
    "id": "QALPjEILaM62",
    "tags": []
   },
   "outputs": [
    {
     "data": {
      "text/markdown": [
       "Today is **Sunday**."
      ],
      "text/plain": [
       "<IPython.core.display.Markdown object>"
      ]
     },
     "metadata": {},
     "output_type": "display_data"
    }
   ],
   "source": [
    "generation_config = GenerateContentConfig(temperature=1.0)\n",
    "\n",
    "prompt = \"What day is it today?\"\n",
    "\n",
    "response = client.models.generate_content(model=MODEL_ID, contents=prompt)\n",
    "display(Markdown(response.text))"
   ]
  },
  {
   "cell_type": "markdown",
   "metadata": {
    "id": "BRkwzbgRbhKt"
   },
   "source": [
    "Since LLMs do not have access to real-time information without further integrations, you may have noticed it hallucinates what day it is today in some of the outputs."
   ]
  },
  {
   "cell_type": "markdown",
   "metadata": {
    "id": "3c811e310d02"
   },
   "source": [
    "### Using system instructions to guardrail the model from irrelevant responses\n",
    "\n",
    "How can we attempt to reduce the chances of irrelevant responses and hallucinations?\n",
    "\n",
    "One way is to provide the LLM with [system instructions](https://cloud.google.com/vertex-ai/generative-ai/docs/learn/prompts/system-instruction-introduction).\n",
    "\n",
    "Let's see how system instructions works and how you can use them to reduce hallucinations or irrelevant questions for a travel chatbot.\n",
    "\n",
    "Suppose we ask a simple question about one of Italy's most famous tourist spots."
   ]
  },
  {
   "cell_type": "code",
   "execution_count": 11,
   "metadata": {
    "id": "rB6zJU76biFK",
    "tags": []
   },
   "outputs": [
    {
     "data": {
      "text/markdown": [
       "For sightseeing in Milan, one of the absolute must-see places is the **Duomo di Milano (Milan Cathedral)**.\n",
       "\n",
       "It's an iconic Gothic cathedral, famous for its intricate architecture, countless spires, and stunning stained glass windows. You can climb to the terraces for incredible panoramic views of the city.\n",
       "\n",
       "Other highly recommended sightseeing spots in Milan include:\n",
       "*   **Galleria Vittorio Emanuele II:** A beautiful, historic shopping arcade right next to the Duomo.\n",
       "*   **Sforza Castle (Castello Sforzesco):** A massive medieval fortress housing several museums and art collections.\n",
       "*   **The Last Supper (Il Cenacolo) by Leonardo da Vinci:** Located at the Santa Maria delle Grazie church, this world-famous fresco requires advance booking.\n",
       "*   **Teatro alla Scala:** One of the world's leading opera houses, you can visit its museum even if you don't catch a show.\n",
       "\n",
       "For a first-time visitor focusing on sightseeing, starting with the Duomo and the surrounding area is definitely the best approach!"
      ],
      "text/plain": [
       "<IPython.core.display.Markdown object>"
      ]
     },
     "metadata": {},
     "output_type": "display_data"
    }
   ],
   "source": [
    "generation_config = GenerateContentConfig(temperature=1.0)\n",
    "\n",
    "chat = client.chats.create(\n",
    "    model=MODEL_ID,\n",
    "    config=GenerateContentConfig(\n",
    "        system_instruction=[\n",
    "            \"Hello! You are an AI chatbot for a travel web site.\",\n",
    "            \"Your mission is to provide helpful queries for travelers.\",\n",
    "            \"Remember that before you answer a question, you must check to see if it complies with your mission.\",\n",
    "            \"If not, you can say, Sorry I can't answer that question.\",\n",
    "        ]\n",
    "    ),\n",
    ")\n",
    "\n",
    "prompt = \"What is the best place for sightseeing in Milan, Italy?\"\n",
    "\n",
    "response = chat.send_message(prompt)\n",
    "display(Markdown(response.text))"
   ]
  },
  {
   "cell_type": "markdown",
   "metadata": {
    "id": "WZa-Qcf9cF4A"
   },
   "source": [
    "Now let us pretend to be a user asks the chatbot a question that is unrelated to travel."
   ]
  },
  {
   "cell_type": "code",
   "execution_count": 12,
   "metadata": {
    "id": "AZKBIDr2cGnu",
    "tags": []
   },
   "outputs": [
    {
     "data": {
      "text/markdown": [
       "Sorry, I can't answer that question."
      ],
      "text/plain": [
       "<IPython.core.display.Markdown object>"
      ]
     },
     "metadata": {},
     "output_type": "display_data"
    }
   ],
   "source": [
    "prompt = \"How do I make pizza dough at home?\"\n",
    "\n",
    "response = chat.send_message(prompt)\n",
    "display(Markdown(response.text))"
   ]
  },
  {
   "cell_type": "markdown",
   "metadata": {
    "id": "JiUYIhwpctCy"
   },
   "source": [
    "You can see that this way, a guardrail in the prompt prevented the chatbot from veering off course."
   ]
  },
  {
   "cell_type": "markdown",
   "metadata": {
    "id": "ZuuDhA37cvmP"
   },
   "source": [
    "### Turn generative tasks into classification tasks to reduce output variability"
   ]
  },
  {
   "cell_type": "markdown",
   "metadata": {
    "id": "kUCUrsUzczmb"
   },
   "source": [
    "#### Generative tasks lead to higher output variability"
   ]
  },
  {
   "cell_type": "markdown",
   "metadata": {
    "id": "a1xASHAkc46n"
   },
   "source": [
    "The prompt below results in an open-ended response, useful for brainstorming, but response is highly variable."
   ]
  },
  {
   "cell_type": "code",
   "execution_count": 13,
   "metadata": {
    "id": "nPfXQWIacwRf",
    "tags": []
   },
   "outputs": [
    {
     "data": {
      "text/markdown": [
       "That's fantastic! Programming is a superpower, and the best way to get better is to *build things*. The key is to pick something that excites you and then stick with it.\n",
       "\n",
       "Here are a few programming activity recommendations, categorized by what kind of skills they emphasize, along with suggestions for languages/tools:\n",
       "\n",
       "---\n",
       "\n",
       "## 1. Interactive & Logic-Focused (Great for beginners!)\n",
       "\n",
       "These projects focus on core programming concepts like loops, conditionals, functions, and user input.\n",
       "\n",
       "**A. Text-Based Adventure Game**\n",
       "*   **Description:** Create a simple \"choose your own adventure\" game. The user reads a situation and makes choices, which lead to different outcomes and new situations.\n",
       "*   **What you'll learn:** If/else statements, functions, user input, basic data structures (like dictionaries for rooms/situations), program flow, debugging.\n",
       "*   **Suggested Enhancements:** Inventory system, health/mana, simple combat mechanics, saving/loading game progress.\n",
       "*   **Suggested Language:** Python (easiest for text handling), Ruby, JavaScript (Node.js for console).\n",
       "\n",
       "**B. Classic Console Game (Tic-Tac-Toe, Hangman, Connect Four)**\n",
       "*   **Description:** Implement one of these classic games where two players (or one player against a basic AI) can play in the console.\n",
       "*   **What you'll learn:** Lists/arrays (for the game board), loops, functions, conditional logic, input validation, basic algorithm design (for AI).\n",
       "*   **Suggested Enhancements:** A simple AI opponent (e.g., random moves, blocking immediate wins), score tracking, GUI version later.\n",
       "*   **Suggested Language:** Python, Java, C++, JavaScript.\n",
       "\n",
       "**C. Unit Converter / Calculator**\n",
       "*   **Description:** A program that can convert between different units (e.g., Fahrenheit to Celsius, miles to kilometers) or perform basic arithmetic operations.\n",
       "*   **What you'll learn:** Input parsing, error handling (what if they type \"hello\"?), functions, basic math operations, dictionaries/maps for unit conversions.\n",
       "*   **Suggested Enhancements:** More complex conversions (currency via API), scientific calculator functions, a graphical user interface (GUI).\n",
       "*   **Suggested Language:** Python, Java, C#, JavaScript.\n",
       "\n",
       "---\n",
       "\n",
       "## 2. Practical & Utility-Focused (Solves a real problem!)\n",
       "\n",
       "These projects help you understand how programming can interact with data, files, or external services.\n",
       "\n",
       "**A. To-Do List Application**\n",
       "*   **Description:** A program where you can add, view, mark as complete, and delete tasks.\n",
       "*   **What you'll learn:** Data structures (lists of dictionaries/objects), file I/O (saving tasks to a text file or JSON so they persist), functions for different actions.\n",
       "*   **Suggested Enhancements:** Priority levels, due dates, ability to edit tasks, a simple web interface.\n",
       "*   **Suggested Language:** Python (with `json` module), JavaScript (with Node.js and file system module).\n",
       "\n",
       "**B. Simple Web Scraper**\n",
       "*   **Description:** Write a program that extracts specific information from a public website (e.g., latest news headlines from a blog, product prices from an online store, weather data).\n",
       "*   **What you'll learn:** HTTP requests, parsing HTML/XML, using external libraries (e.g., `requests` and `BeautifulSoup` in Python), understanding web page structure.\n",
       "*   **Suggested Enhancements:** Save data to a CSV, set up scheduled scraping, notify you if a price drops. *Be ethical and check website's `robots.txt`!*\n",
       "*   **Suggested Language:** Python (excellent for this), JavaScript (Node.js with `axios` and `cheerio`).\n",
       "\n",
       "**C. Password Generator**\n",
       "*   **Description:** Generate strong, random passwords based on user-defined criteria (length, inclusion of numbers, symbols, uppercase letters).\n",
       "*   **What you'll learn:** Random number generation, string manipulation, character sets, user input for preferences.\n",
       "*   **Suggested Enhancements:** Check password strength, generate memorable passphrases, integrate with a password manager (more advanced).\n",
       "*   **Suggested Language:** Python, Java, C++, JavaScript.\n",
       "\n",
       "---\n",
       "\n",
       "## 3. Web & Visual Focused (Great for portfolio!)\n",
       "\n",
       "These projects introduce front-end or back-end web development, or simple graphics.\n",
       "\n",
       "**A. Personal Portfolio Website (HTML/CSS/JavaScript)**\n",
       "*   **Description:** Build a simple website to showcase your projects, skills, and contact information.\n",
       "*   **What you'll learn:** HTML structure, CSS styling (flexbox, grid), basic JavaScript for interactivity (e.g., a simple contact form, image carousel, dark mode toggle). This is fundamental for modern development.\n",
       "*   **Suggested Enhancements:** Make it responsive for mobile, add animations, deploy it online (GitHub Pages is free!).\n",
       "*   **Suggested Language/Tools:** HTML, CSS, JavaScript.\n",
       "\n",
       "**B. Weather App (using an API)**\n",
       "*   **Description:** Create a program (console or web-based) that fetches current weather data for a given city using a public weather API (like OpenWeatherMap).\n",
       "*   **What you'll learn:** Making API requests (HTTP GET), parsing JSON data, error handling, displaying information clearly.\n",
       "*   **Suggested Enhancements:** Display forecasts, weather icons, search by ZIP code, create a simple GUI.\n",
       "*   **Suggested Language:** JavaScript (for web), Python (for console or web with Flask/Django).\n",
       "\n",
       "**C. Simple GUI Game (Pong, Snake)**\n",
       "*   **Description:** Recreate a classic game with a graphical interface.\n",
       "*   **What you'll learn:** Event handling (keyboard input), game loops, drawing shapes/sprites, collision detection, coordinate systems.\n",
       "*   **Suggested Enhancements:** Add scoring, multiple levels, different enemy behaviors, sound effects.\n",
       "*   **Suggested Language/Tools:** Python with Pygame, JavaScript with HTML Canvas, Processing (Java-based).\n",
       "\n",
       "---\n",
       "\n",
       "## General Tips for Success:\n",
       "\n",
       "1.  **Start Small:** Don't try to build the next Facebook. Break your project into tiny, manageable steps.\n",
       "2.  **Choose Something You're Interested In:** You'll be more motivated to overcome challenges if the project excites you.\n",
       "3.  **Google is Your Best Friend:** Seriously, every programmer uses Google constantly. Don't know how to do something? Search for it! \"Python read from file,\" \"JavaScript array filter example.\"\n",
       "4.  **Version Control (Git & GitHub):** Learn to use Git from the start. It allows you to track changes, revert to previous versions, and share your code. This is an *essential* skill for any developer.\n",
       "    *   **Learn:** `git init`, `git add`, `git commit`, `git status`, `git log`.\n",
       "    *   **Then:** `git push` to GitHub.\n",
       "5.  **Read Documentation:** Once you get comfortable, learn to read the official documentation for libraries and languages you use. It's the most reliable source of information.\n",
       "6.  **Don't Be Afraid to Fail:** You will encounter bugs. Your code won't work perfectly the first time. That's normal! Debugging is a core part of programming.\n",
       "7.  **Share Your Work:** Show your projects to friends, family, or even post them online. Getting feedback is valuable, and it's great for your confidence and future opportunities.\n",
       "\n",
       "Pick one that resonates with you and dive in! Good luck!"
      ],
      "text/plain": [
       "<IPython.core.display.Markdown object>"
      ]
     },
     "metadata": {},
     "output_type": "display_data"
    }
   ],
   "source": [
    "prompt = \"I'm a high school student. Recommend me a programming activity to improve my skills.\"\n",
    "\n",
    "response = client.models.generate_content(model=MODEL_ID, contents=prompt)\n",
    "display(Markdown(response.text))"
   ]
  },
  {
   "cell_type": "markdown",
   "metadata": {
    "id": "iAmm9wPYc_1o"
   },
   "source": [
    "#### Classification tasks reduces output variability"
   ]
  },
  {
   "cell_type": "markdown",
   "metadata": {
    "id": "VvRpK_0GdCpf"
   },
   "source": [
    "The prompt below results in a choice and may be useful if you want the output to be easier to control."
   ]
  },
  {
   "cell_type": "code",
   "execution_count": null,
   "metadata": {
    "id": "kYDKh0r2dAqo"
   },
   "outputs": [],
   "source": [
    "prompt = \"\"\"I'm a high school student. Which of these activities do you suggest and why:\n",
    "a) learn Python\n",
    "b) learn JavaScript\n",
    "c) learn Fortran\n",
    "\"\"\"\n",
    "\n",
    "response = client.models.generate_content(model=MODEL_ID, contents=prompt)\n",
    "display(Markdown(response.text))"
   ]
  },
  {
   "cell_type": "markdown",
   "metadata": {
    "id": "iTd60b1GdIsx"
   },
   "source": [
    "### Improve response quality by including examples"
   ]
  },
  {
   "cell_type": "markdown",
   "metadata": {
    "id": "yJi44NejdJYE"
   },
   "source": [
    "Another way to improve response quality is to add examples in your prompt. The LLM learns in-context from the examples on how to respond. Typically, one to five examples (shots) are enough to improve the quality of responses. Including too many examples can cause the model to over-fit the data and reduce the quality of responses.\n",
    "\n",
    "Similar to classical model training, the quality and distribution of the examples is very important. Pick examples that are representative of the scenarios that you need the model to learn, and keep the distribution of the examples (e.g. number of examples per class in the case of classification) aligned with your actual distribution."
   ]
  },
  {
   "cell_type": "markdown",
   "metadata": {
    "id": "sMbLginWdOKs"
   },
   "source": [
    "#### Zero-shot prompt"
   ]
  },
  {
   "cell_type": "markdown",
   "metadata": {
    "id": "Crh2Loi2dQ0v"
   },
   "source": [
    "Below is an example of zero-shot prompting, where you don't provide any examples to the LLM within the prompt itself."
   ]
  },
  {
   "cell_type": "code",
   "execution_count": null,
   "metadata": {
    "id": "-7myRc-SdTQ4"
   },
   "outputs": [],
   "source": [
    "prompt = \"\"\"Decide whether a Tweet's sentiment is positive, neutral, or negative.\n",
    "\n",
    "Tweet: I loved the new YouTube video you made!\n",
    "Sentiment:\n",
    "\"\"\"\n",
    "\n",
    "response = client.models.generate_content(model=MODEL_ID, contents=prompt)\n",
    "display(Markdown(response.text))"
   ]
  },
  {
   "cell_type": "markdown",
   "metadata": {
    "id": "ucRtPn9SdL64"
   },
   "source": [
    "#### One-shot prompt"
   ]
  },
  {
   "cell_type": "markdown",
   "metadata": {
    "id": "rs0gQH2vdYBi"
   },
   "source": [
    "Below is an example of one-shot prompting, where you provide one example to the LLM within the prompt to give some guidance on what type of response you want."
   ]
  },
  {
   "cell_type": "code",
   "execution_count": null,
   "metadata": {
    "id": "iEq-KxGYdaT5"
   },
   "outputs": [],
   "source": [
    "prompt = \"\"\"Decide whether a Tweet's sentiment is positive, neutral, or negative.\n",
    "\n",
    "Tweet: I loved the new YouTube video you made!\n",
    "Sentiment: positive\n",
    "\n",
    "Tweet: That was awful. Super boring 😠\n",
    "Sentiment:\n",
    "\"\"\"\n",
    "\n",
    "response = client.models.generate_content(model=MODEL_ID, contents=prompt)\n",
    "display(Markdown(response.text))"
   ]
  },
  {
   "cell_type": "markdown",
   "metadata": {
    "id": "JnKLjJzmdfL_"
   },
   "source": [
    "#### Few-shot prompt"
   ]
  },
  {
   "cell_type": "markdown",
   "metadata": {
    "id": "6Zv-9F5OdgI_"
   },
   "source": [
    "Below is an example of few-shot prompting, where you provide a few examples to the LLM within the prompt to give some guidance on what type of response you want."
   ]
  },
  {
   "cell_type": "code",
   "execution_count": null,
   "metadata": {
    "id": "u37P9tG4dk9S"
   },
   "outputs": [],
   "source": [
    "prompt = \"\"\"Decide whether a Tweet's sentiment is positive, neutral, or negative.\n",
    "\n",
    "Tweet: I loved the new YouTube video you made!\n",
    "Sentiment: positive\n",
    "\n",
    "Tweet: That was awful. Super boring 😠\n",
    "Sentiment: negative\n",
    "\n",
    "Tweet: Something surprised me about this video - it was actually original. It was not the same old recycled stuff that I always see. Watch it - you will not regret it.\n",
    "Sentiment:\n",
    "\"\"\"\n",
    "\n",
    "response = client.models.generate_content(model=MODEL_ID, contents=prompt)\n",
    "display(Markdown(response.text))"
   ]
  },
  {
   "cell_type": "markdown",
   "metadata": {
    "id": "wDMD3xb2dvX6"
   },
   "source": [
    "#### Choosing between zero-shot, one-shot, few-shot prompting methods"
   ]
  },
  {
   "cell_type": "markdown",
   "metadata": {
    "id": "s92W0YpNdxJp"
   },
   "source": [
    "Which prompt technique to use will solely depends on your goal. The zero-shot prompts are more open-ended and can give you creative answers, while one-shot and few-shot prompts teach the model how to behave so you can get more predictable answers that are consistent with the examples provided."
   ]
  }
 ],
 "metadata": {
  "colab": {
   "name": "intro_prompt_design.ipynb",
   "toc_visible": true
  },
  "environment": {
   "kernel": "conda-base-py",
   "name": "workbench-notebooks.m134",
   "type": "gcloud",
   "uri": "us-docker.pkg.dev/deeplearning-platform-release/gcr.io/workbench-notebooks:m134"
  },
  "kernelspec": {
   "display_name": "Python 3 (ipykernel) (Local) (Local)",
   "language": "python",
   "name": "conda-base-py"
  },
  "language_info": {
   "codemirror_mode": {
    "name": "ipython",
    "version": 3
   },
   "file_extension": ".py",
   "mimetype": "text/x-python",
   "name": "python",
   "nbconvert_exporter": "python",
   "pygments_lexer": "ipython3",
   "version": "3.10.18"
  }
 },
 "nbformat": 4,
 "nbformat_minor": 4
}
